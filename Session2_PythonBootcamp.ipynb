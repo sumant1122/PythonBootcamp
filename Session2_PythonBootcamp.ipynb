{
  "nbformat": 4,
  "nbformat_minor": 0,
  "metadata": {
    "colab": {
      "provenance": [],
      "authorship_tag": "ABX9TyMLv3bP+NqE6CJdsromrQfM",
      "include_colab_link": true
    },
    "kernelspec": {
      "name": "python3",
      "display_name": "Python 3"
    },
    "language_info": {
      "name": "python"
    }
  },
  "cells": [
    {
      "cell_type": "markdown",
      "metadata": {
        "id": "view-in-github",
        "colab_type": "text"
      },
      "source": [
        "<a href=\"https://colab.research.google.com/github/sumant1122/PythonBootcamp/blob/main/Session2_PythonBootcamp.ipynb\" target=\"_parent\"><img src=\"https://colab.research.google.com/assets/colab-badge.svg\" alt=\"Open In Colab\"/></a>"
      ]
    },
    {
      "cell_type": "markdown",
      "source": [
        "# Continuing from last session"
      ],
      "metadata": {
        "id": "MU7udakow1Hl"
      }
    },
    {
      "cell_type": "markdown",
      "source": [
        "#Data Structures : Tuples"
      ],
      "metadata": {
        "id": "GDwt8yerw6JB"
      }
    },
    {
      "cell_type": "code",
      "source": [
        "thistuple = (\"apple\", \"banana\", \"cherry\")\n",
        "print(thistuple)\n",
        "\n",
        "# Tuples can contain different data types:\n",
        "tuple1 = (\"abc\", 34, True, 40, \"male\")\n",
        "print(tuple1)"
      ],
      "metadata": {
        "id": "fU37x5-2xYdS"
      },
      "execution_count": null,
      "outputs": []
    },
    {
      "cell_type": "code",
      "source": [
        "student = 'John Doe', 27, 'Python v3', 1234567890\n",
        "\n",
        "name, age, course, phone = student\n"
      ],
      "metadata": {
        "id": "jOEXxR5bxPek"
      },
      "execution_count": null,
      "outputs": []
    },
    {
      "cell_type": "code",
      "source": [
        "name"
      ],
      "metadata": {
        "id": "OUfIxJVvxRKp"
      },
      "execution_count": null,
      "outputs": []
    },
    {
      "cell_type": "code",
      "source": [
        "print(name)"
      ],
      "metadata": {
        "id": "f32UjYiHOXzo"
      },
      "execution_count": null,
      "outputs": []
    },
    {
      "cell_type": "code",
      "source": [
        "def get_coordinates():\n",
        "  return (10, 20)\n",
        "\n",
        "x, y = get_coordinates()\n",
        "print(\"x:\", x, \"y:\", y)"
      ],
      "metadata": {
        "id": "bE9itFPexbOZ"
      },
      "execution_count": null,
      "outputs": []
    },
    {
      "cell_type": "markdown",
      "source": [
        "examples of tuple in python and use in functions"
      ],
      "metadata": {
        "id": "2JTktVqZxe_g"
      }
    },
    {
      "cell_type": "markdown",
      "source": [
        "#Data Structures : Sets"
      ],
      "metadata": {
        "id": "vCISOlsuxhbA"
      }
    },
    {
      "cell_type": "code",
      "source": [
        "# Using curly braces\n",
        "my_set = {1, 2, 3}\n",
        "print(my_set)\n",
        "\n",
        "# Using the set() constructor\n",
        "my_set2 = set([3, 4, 5])\n",
        "print(my_set2)\n"
      ],
      "metadata": {
        "id": "CduELFAgxwbl"
      },
      "execution_count": null,
      "outputs": []
    },
    {
      "cell_type": "code",
      "source": [
        "my_set.add(5)\n",
        "my_set"
      ],
      "metadata": {
        "id": "CywWNaJex4RP"
      },
      "execution_count": null,
      "outputs": []
    },
    {
      "cell_type": "markdown",
      "source": [
        "example of Sets in python"
      ],
      "metadata": {
        "id": "TsWPZ4-cyIEY"
      }
    },
    {
      "cell_type": "markdown",
      "source": [
        "# I/O"
      ],
      "metadata": {
        "id": "S1wug0MByLEl"
      }
    },
    {
      "cell_type": "code",
      "source": [
        "# Getting input from the user\n",
        "user_input = input(\"Enter something: \")\n",
        "print(\"You entered:\", user_input)\n"
      ],
      "metadata": {
        "id": "O6owZcgRyYoy"
      },
      "execution_count": null,
      "outputs": []
    },
    {
      "cell_type": "code",
      "source": [
        "# Printing with different separators and end characters\n",
        "print(\"hey\",\"there\",\"Hello\", \"world\", sep=\"-\", end=\"!\\n\")\n",
        "\n",
        "# Formatting output using f-strings (Python 3.6+)\n",
        "name = \"Python\"\n",
        "age = 30\n",
        "print(f\"My name is {name} and I am {age} years old.\")"
      ],
      "metadata": {
        "id": "_jGrljdwALze"
      },
      "execution_count": null,
      "outputs": []
    },
    {
      "cell_type": "code",
      "source": [
        "# Using the .format() method\n",
        "price = 49.99\n",
        "quantity = 3\n",
        "print(\"The total price for {} items is ${:.2f}.\".format(quantity, quantity * price))\n",
        "\n",
        "# Old-style %-formatting (less common now)\n",
        "item = \"book\"\n",
        "print(\"I am reading a %s.\" % item)\n",
        "\n",
        "# More complex f-string examples\n",
        "data = {'city': 'London', 'temperature': 22}\n",
        "print(f\"The weather in {data['city']} is {data['temperature']} degrees.\")\n",
        "\n",
        "# Using f-strings with expressions\n",
        "a = 10\n",
        "b = 5\n",
        "print(f\"The sum of {a} and {b} is {a + b}.\")"
      ],
      "metadata": {
        "id": "BNK2IG1iyfYp"
      },
      "execution_count": null,
      "outputs": []
    },
    {
      "cell_type": "markdown",
      "source": [
        "#File Handling"
      ],
      "metadata": {
        "id": "EmO-4dNLy2hI"
      }
    },
    {
      "cell_type": "code",
      "source": [
        "# Writing to a file\n",
        "with open('my_file.txt', 'w') as f:\n",
        "    f.write(\"Hello, file!\\n\")\n",
        "    f.write(\"This is another line.\\n\")"
      ],
      "metadata": {
        "id": "Uso5MP8eQwtd"
      },
      "execution_count": null,
      "outputs": []
    },
    {
      "cell_type": "code",
      "source": [
        "# Reading from a file\n",
        "with open('my_file.txt', 'r') as f:\n",
        "    content = f.read()\n",
        "    print(\"\\nFile Content:\")\n",
        "    print(content)"
      ],
      "metadata": {
        "id": "-K-I2EXTQ9Cx"
      },
      "execution_count": null,
      "outputs": []
    },
    {
      "cell_type": "code",
      "source": [
        "\n",
        "# Appending to a file\n",
        "with open('my_file.txt', 'a') as f:\n",
        "    f.write(\"Appending this line.\\n\")\n",
        "\n",
        "# Reading line by line\n",
        "with open('my_file.txt', 'r') as f:\n",
        "    print(\"\\nFile Content (line by line):\")\n",
        "    for line in f:\n",
        "        print(line, end='') # end='' prevents adding extra newline characters\n",
        "print() # print a final newline for clarity"
      ],
      "metadata": {
        "id": "clI_vf3bBNmz"
      },
      "execution_count": null,
      "outputs": []
    },
    {
      "cell_type": "markdown",
      "source": [
        "# Error Handling"
      ],
      "metadata": {
        "id": "sjlN27EGCWtc"
      }
    },
    {
      "cell_type": "code",
      "source": [
        "# prompt: print numbers from 1 to 10\n",
        "\n",
        "for i in range(1, 11):\n",
        "  print(i)\n"
      ],
      "metadata": {
        "id": "hVAyiREpTwR3"
      },
      "execution_count": null,
      "outputs": []
    },
    {
      "cell_type": "code",
      "source": [],
      "metadata": {
        "id": "CTRwygfsTEC0"
      },
      "execution_count": null,
      "outputs": []
    },
    {
      "cell_type": "code",
      "source": [
        "result = 10 / 5\n",
        "result"
      ],
      "metadata": {
        "id": "qTQ7YMJTSb3v"
      },
      "execution_count": null,
      "outputs": []
    },
    {
      "cell_type": "code",
      "source": [
        "# Basic try-except block\n",
        "try:\n",
        "    result = 10 / 0  # This will cause a ZeroDivisionError\n",
        "except ZeroDivisionError:\n",
        "    print(\"Error: Cannot divide by zero!\")"
      ],
      "metadata": {
        "id": "ZwUtMXmSCh2h"
      },
      "execution_count": null,
      "outputs": []
    },
    {
      "cell_type": "code",
      "source": [
        "f = open(\"non_existent_file.txt\", \"r\")"
      ],
      "metadata": {
        "id": "9aBggyvQSvAj"
      },
      "execution_count": null,
      "outputs": []
    },
    {
      "cell_type": "code",
      "source": [
        "try:\n",
        "    f = open(\"non_existent_file.txt\", \"r\")\n",
        "    content = f.read()\n",
        "except FileNotFoundError:\n",
        "    print(\"The file was not found.\")\n",
        "finally:\n",
        "    print(\"This block always executes, regardless of whether an exception occurred.\")\n",
        "    # In a real scenario, you might close resources here\n",
        "    # if 'f' in locals() and not f.closed:\n",
        "    #     f.close()"
      ],
      "metadata": {
        "id": "915khM_qCiUt"
      },
      "execution_count": null,
      "outputs": []
    },
    {
      "cell_type": "markdown",
      "source": [
        "error handling in python"
      ],
      "metadata": {
        "id": "b2hHv9v9Cqs1"
      }
    },
    {
      "cell_type": "markdown",
      "source": [
        "#Json Data"
      ],
      "metadata": {
        "id": "3xey1-bxDOoi"
      }
    },
    {
      "cell_type": "code",
      "source": [
        "import json\n",
        "json_data = '{\"name\": \"John\", \"age\": 30, \"city\": \"New York\"}'\n",
        "python_dict = json.loads(json_data)\n",
        "print(python_dict)"
      ],
      "metadata": {
        "colab": {
          "base_uri": "https://localhost:8080/"
        },
        "id": "WdUII6iYDQQu",
        "outputId": "d71842eb-5ee5-434b-e320-ddfb8310cc87"
      },
      "execution_count": null,
      "outputs": [
        {
          "output_type": "stream",
          "name": "stdout",
          "text": [
            "{'name': 'John', 'age': 30, 'city': 'New York'}\n"
          ]
        }
      ]
    },
    {
      "cell_type": "code",
      "source": [
        "# Writing a Python dictionary directly to a JSON file\n",
        "data_to_write = {'id': 1, 'product': 'laptop', 'price': 1200.00}\n",
        "with open('output.json', 'w') as f:\n",
        "    json.dump(data_to_write, f, indent=4)\n",
        "\n",
        "print(\"\\nData written to output.json\")\n",
        "\n"
      ],
      "metadata": {
        "colab": {
          "base_uri": "https://localhost:8080/"
        },
        "id": "Xg6d80JEDpyU",
        "outputId": "0714babb-f489-422e-ceaf-a6574e4f5c8c"
      },
      "execution_count": null,
      "outputs": [
        {
          "output_type": "stream",
          "name": "stdout",
          "text": [
            "\n",
            "Data written to output.json\n"
          ]
        }
      ]
    },
    {
      "cell_type": "code",
      "source": [
        "# Reading JSON data from a file\n",
        "with open('output.json', 'r') as f:\n",
        "    read_data = json.load(f)\n",
        "    print(\"\\nData read from output.json:\")\n",
        "    print(read_data)\n",
        "\n",
        "# Accessing elements from the loaded JSON data (which is a Python dictionary)\n",
        "print(f\"Product: {read_data['product']}\")\n",
        "print(f\"Price: {read_data['price']}\")"
      ],
      "metadata": {
        "colab": {
          "base_uri": "https://localhost:8080/"
        },
        "id": "Un0kNUi1R6Og",
        "outputId": "73decb97-48af-446f-be43-07609b9dd41a"
      },
      "execution_count": null,
      "outputs": [
        {
          "output_type": "stream",
          "name": "stdout",
          "text": [
            "\n",
            "Data read from output.json:\n",
            "{'id': 1, 'product': 'laptop', 'price': 1200.0, 'quanity': 3}\n",
            "Product: laptop\n",
            "Price: 1200.0\n"
          ]
        }
      ]
    },
    {
      "cell_type": "markdown",
      "source": [
        "#Web API"
      ],
      "metadata": {
        "id": "KvFf-pWLDsGe"
      }
    },
    {
      "cell_type": "code",
      "source": [
        "!pip install requests"
      ],
      "metadata": {
        "colab": {
          "base_uri": "https://localhost:8080/"
        },
        "id": "zmQW3kp0K_ET",
        "outputId": "a1be57bb-d29a-421c-9efd-1a31acfa8935"
      },
      "execution_count": null,
      "outputs": [
        {
          "output_type": "stream",
          "name": "stdout",
          "text": [
            "Requirement already satisfied: requests in /usr/local/lib/python3.11/dist-packages (2.32.3)\n",
            "Requirement already satisfied: charset-normalizer<4,>=2 in /usr/local/lib/python3.11/dist-packages (from requests) (3.4.2)\n",
            "Requirement already satisfied: idna<4,>=2.5 in /usr/local/lib/python3.11/dist-packages (from requests) (3.10)\n",
            "Requirement already satisfied: urllib3<3,>=1.21.1 in /usr/local/lib/python3.11/dist-packages (from requests) (2.4.0)\n",
            "Requirement already satisfied: certifi>=2017.4.17 in /usr/local/lib/python3.11/dist-packages (from requests) (2025.7.14)\n"
          ]
        }
      ]
    },
    {
      "cell_type": "code",
      "source": [
        "import requests\n",
        "\n",
        "# Example of making a GET request to a public API\n",
        "# This API provides random user data\n",
        "url = \"https://randomuser.me/api/\"\n",
        "\n",
        "try:\n",
        "    # Make the GET request\n",
        "    response = requests.get(url)\n",
        "\n",
        "    # Check if the request was successful (status code 200)\n",
        "    if response.status_code == 200:\n",
        "        # Parse the JSON response\n",
        "        data = response.json()\n",
        "\n",
        "        # Process the data (example: print some user information)\n",
        "        user = data['results'][0]\n",
        "        name = user['name']\n",
        "        location = user['location']\n",
        "\n",
        "        print(\"API Call Successful:\")\n",
        "        print(f\"  Name: {name['first']} {name['last']}\")\n",
        "        print(f\"  Location: {location['city']}, {location['country']}\")\n",
        "\n",
        "    else:\n",
        "        print(f\"API Request Failed: Status Code {response.status_code}\")\n",
        "        print(f\"Response Body: {response.text}\")\n",
        "\n",
        "except requests.exceptions.RequestException as e:\n",
        "    print(f\"An error occurred during the API request: {e}\")\n"
      ],
      "metadata": {
        "colab": {
          "base_uri": "https://localhost:8080/"
        },
        "id": "7LSsYlZ7K_q8",
        "outputId": "dabfd186-6585-4165-8ce9-504e034e9914"
      },
      "execution_count": null,
      "outputs": [
        {
          "output_type": "stream",
          "name": "stdout",
          "text": [
            "API Call Successful:\n",
            "  Name: Matias Peltonen\n",
            "  Location: Orivesi, Finland\n"
          ]
        }
      ]
    },
    {
      "cell_type": "code",
      "source": [],
      "metadata": {
        "id": "Bf2F79HeLXz3"
      },
      "execution_count": null,
      "outputs": []
    }
  ]
}