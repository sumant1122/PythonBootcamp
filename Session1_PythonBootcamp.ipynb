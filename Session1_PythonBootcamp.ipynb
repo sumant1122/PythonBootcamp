{
  "nbformat": 4,
  "nbformat_minor": 0,
  "metadata": {
    "colab": {
      "provenance": [],
      "authorship_tag": "ABX9TyPnvG2D5OraY2N94JXRpQe5",
      "include_colab_link": true
    },
    "kernelspec": {
      "name": "python3",
      "display_name": "Python 3"
    },
    "language_info": {
      "name": "python"
    }
  },
  "cells": [
    {
      "cell_type": "markdown",
      "metadata": {
        "id": "view-in-github",
        "colab_type": "text"
      },
      "source": [
        "<a href=\"https://colab.research.google.com/github/sumant1122/PythonBootcamp/blob/main/Session1_PythonBootcamp.ipynb\" target=\"_parent\"><img src=\"https://colab.research.google.com/assets/colab-badge.svg\" alt=\"Open In Colab\"/></a>"
      ]
    },
    {
      "cell_type": "markdown",
      "source": [
        "# Python Bootcamp"
      ],
      "metadata": {
        "id": "UJcaYNeoCgB8"
      }
    },
    {
      "cell_type": "markdown",
      "source": [
        "My First Program : Hello World"
      ],
      "metadata": {
        "id": "C8zHMDrCCbzH"
      }
    },
    {
      "cell_type": "code",
      "execution_count": null,
      "metadata": {
        "id": "CfLR_6hICWsu"
      },
      "outputs": [],
      "source": [
        "print(\"Hello World\")"
      ]
    },
    {
      "cell_type": "code",
      "source": [
        "# This is a comment\n",
        "print(\"Welcome to Bootcamp\")"
      ],
      "metadata": {
        "id": "9I9sQJWqCq01"
      },
      "execution_count": null,
      "outputs": []
    },
    {
      "cell_type": "markdown",
      "source": [
        "# Variables and Data Types"
      ],
      "metadata": {
        "id": "GLmZk2eWCvUk"
      }
    },
    {
      "cell_type": "code",
      "source": [
        "# here x is assigned a interger value\n",
        "x = 7"
      ],
      "metadata": {
        "id": "X3nEMGthCzW6"
      },
      "execution_count": null,
      "outputs": []
    },
    {
      "cell_type": "code",
      "source": [
        "x"
      ],
      "metadata": {
        "id": "01MhL8JZC9ot",
        "colab": {
          "base_uri": "https://localhost:8080/"
        },
        "outputId": "99423fd7-6230-4fb8-f69d-aadfc374aec7"
      },
      "execution_count": null,
      "outputs": [
        {
          "output_type": "execute_result",
          "data": {
            "text/plain": [
              "7"
            ]
          },
          "metadata": {},
          "execution_count": 4
        }
      ]
    },
    {
      "cell_type": "code",
      "source": [
        "y = 8"
      ],
      "metadata": {
        "id": "h7iOr6rnCelN"
      },
      "execution_count": null,
      "outputs": []
    },
    {
      "cell_type": "code",
      "source": [
        "x + y"
      ],
      "metadata": {
        "colab": {
          "base_uri": "https://localhost:8080/"
        },
        "id": "0Ji_QBfNCg-2",
        "outputId": "25e824c5-3f7f-45db-c64a-7c913f7b9228"
      },
      "execution_count": null,
      "outputs": [
        {
          "output_type": "execute_result",
          "data": {
            "text/plain": [
              "15"
            ]
          },
          "metadata": {},
          "execution_count": 6
        }
      ]
    },
    {
      "cell_type": "code",
      "source": [
        "# here width is assigned a float value\n",
        "width = 60.65"
      ],
      "metadata": {
        "id": "T3hPDqk3C5j3"
      },
      "execution_count": null,
      "outputs": []
    },
    {
      "cell_type": "code",
      "source": [
        "print(width)"
      ],
      "metadata": {
        "id": "qh1P4CrJDABC",
        "colab": {
          "base_uri": "https://localhost:8080/"
        },
        "outputId": "30c43b02-7db8-4b59-9f75-e2c7529dad90"
      },
      "execution_count": null,
      "outputs": [
        {
          "output_type": "stream",
          "name": "stdout",
          "text": [
            "60.65\n"
          ]
        }
      ]
    },
    {
      "cell_type": "code",
      "source": [
        "# here name is assigned a string value\n",
        "name = \"Sumant\""
      ],
      "metadata": {
        "id": "yQZxrgcUDGxM"
      },
      "execution_count": null,
      "outputs": []
    },
    {
      "cell_type": "code",
      "source": [
        "name"
      ],
      "metadata": {
        "id": "MZtSh7r6DJr7",
        "colab": {
          "base_uri": "https://localhost:8080/",
          "height": 35
        },
        "outputId": "5834e227-45e8-4162-f9b1-62bd34da0b91"
      },
      "execution_count": null,
      "outputs": [
        {
          "output_type": "execute_result",
          "data": {
            "text/plain": [
              "'Python'"
            ],
            "application/vnd.google.colaboratory.intrinsic+json": {
              "type": "string"
            }
          },
          "metadata": {},
          "execution_count": 10
        }
      ]
    },
    {
      "cell_type": "code",
      "source": [
        "# here isNumeric is assigned a boolean value\n",
        "isNumeric = True"
      ],
      "metadata": {
        "id": "KjZmkgjyDLSg"
      },
      "execution_count": null,
      "outputs": []
    },
    {
      "cell_type": "code",
      "source": [
        "isNumeric"
      ],
      "metadata": {
        "id": "uqhWPWfqDOM8",
        "colab": {
          "base_uri": "https://localhost:8080/"
        },
        "outputId": "2df5d513-3a8a-4f87-b0d1-5df55bdfe3da"
      },
      "execution_count": null,
      "outputs": [
        {
          "output_type": "execute_result",
          "data": {
            "text/plain": [
              "False"
            ]
          },
          "metadata": {},
          "execution_count": 15
        }
      ]
    },
    {
      "cell_type": "code",
      "source": [
        "print(f\"My name is {name}\")"
      ],
      "metadata": {
        "id": "Gb70EytvDQVZ",
        "colab": {
          "base_uri": "https://localhost:8080/"
        },
        "outputId": "b2fc89ff-4b97-45e5-fef2-cfbb09cdf08e"
      },
      "execution_count": null,
      "outputs": [
        {
          "output_type": "stream",
          "name": "stdout",
          "text": [
            "My name is Sumant\n"
          ]
        }
      ]
    },
    {
      "cell_type": "markdown",
      "source": [
        "examples of variables and data types in python\n",
        "\n"
      ],
      "metadata": {
        "id": "UQ9mQzXKDjPk"
      }
    },
    {
      "cell_type": "code",
      "source": [
        "# prompt: examples of variables and data types in python\n",
        "\n",
        "x = 10  # integer\n",
        "name = \"Alice\"  # string\n",
        "price = 19.99  # float\n",
        "is_active = True  # boolean\n",
        "data = [1, 2, 3]  # list\n",
        "mapping = {\"a\": 1, \"b\": 2}  # dictionary\n"
      ],
      "metadata": {
        "id": "HFAmrhMxM44q"
      },
      "execution_count": null,
      "outputs": []
    },
    {
      "cell_type": "markdown",
      "source": [
        "# Conditons"
      ],
      "metadata": {
        "id": "atv7PjE8Dk2a"
      }
    },
    {
      "cell_type": "code",
      "source": [
        "a = 60\n",
        "b = 60"
      ],
      "metadata": {
        "id": "rF971EykEKJ6"
      },
      "execution_count": null,
      "outputs": []
    },
    {
      "cell_type": "code",
      "source": [
        "if a > b:\n",
        "  print(\"a is greater than b\")"
      ],
      "metadata": {
        "id": "-earakUVD1wM",
        "colab": {
          "base_uri": "https://localhost:8080/"
        },
        "outputId": "9af6b066-5040-408e-9c6c-a1482e46448a"
      },
      "execution_count": null,
      "outputs": [
        {
          "output_type": "stream",
          "name": "stdout",
          "text": [
            "a is greater than b\n"
          ]
        }
      ]
    },
    {
      "cell_type": "code",
      "source": [
        "if a > b:\n",
        "  print(\"a is greater than b\")\n",
        "elif a == b:\n",
        "  print(\"a and b are equal\")\n",
        "else:\n",
        "  print(\"b is greater than a\")"
      ],
      "metadata": {
        "id": "3GCVuOEKD5p8",
        "colab": {
          "base_uri": "https://localhost:8080/"
        },
        "outputId": "4d207991-07e5-4b15-da4d-6414ec5f8eeb"
      },
      "execution_count": null,
      "outputs": [
        {
          "output_type": "stream",
          "name": "stdout",
          "text": [
            "a and b are equal\n"
          ]
        }
      ]
    },
    {
      "cell_type": "code",
      "source": [
        "# prompt: some examples of conditions in python\n",
        "\n",
        "# example of if statement\n",
        "x = 10\n",
        "if x > 5:\n",
        "  print(\"x is greater than 5\")\n",
        "\n",
        "# example of if-else statement\n",
        "y = 3\n",
        "if y % 2 == 0:\n",
        "  print(\"y is an even number\")\n",
        "else:\n",
        "  print(\"y is an odd number\")\n",
        "\n",
        "# example of if-elif-else statement\n",
        "z = 0\n",
        "if z > 0:\n",
        "  print(\"z is positive\")\n",
        "elif z < 0:\n",
        "  print(\"z is negative\")\n",
        "else:\n",
        "  print(\"z is zero\")\n",
        "\n",
        "# example of using logical operators in conditions\n",
        "temp = 25\n",
        "if temp > 20 and temp < 30:\n",
        "  print(\"The temperature is pleasant.\")\n",
        "\n",
        "is_raining = True\n",
        "is_cold = False\n",
        "if is_raining or is_cold:\n",
        "  print(\"It might be a good idea to stay inside.\")\n",
        "\n",
        "is_sunny = True\n",
        "if not is_sunny:\n",
        "  print(\"It is not sunny.\")\n",
        "\n",
        "# example of nested conditions\n",
        "score = 85\n",
        "if score >= 60:\n",
        "  if score >= 90:\n",
        "    print(\"Excellent!\")\n",
        "  else:\n",
        "    print(\"Pass\")\n",
        "else:\n",
        "  print(\"Fail\")"
      ],
      "metadata": {
        "id": "qbxL5EKWnjNX"
      },
      "execution_count": null,
      "outputs": []
    },
    {
      "cell_type": "markdown",
      "source": [
        "# Loops"
      ],
      "metadata": {
        "id": "n2MagI_NEVV5"
      }
    },
    {
      "cell_type": "code",
      "source": [
        "fruits = [\"apple\", \"banana\", \"cherry\"]\n",
        "for x in fruits:\n",
        "  print(x)"
      ],
      "metadata": {
        "id": "IQkdSYN2EhQ0",
        "colab": {
          "base_uri": "https://localhost:8080/"
        },
        "outputId": "6f2de4e5-38e8-4802-8600-d2cd368478a4"
      },
      "execution_count": null,
      "outputs": [
        {
          "output_type": "stream",
          "name": "stdout",
          "text": [
            "apple\n",
            "banana\n",
            "cherry\n"
          ]
        }
      ]
    },
    {
      "cell_type": "code",
      "source": [
        "i = 1\n",
        "while i < 6:\n",
        "  print(i)\n",
        "  i += 1"
      ],
      "metadata": {
        "id": "xJb6oGcuEkdX",
        "colab": {
          "base_uri": "https://localhost:8080/"
        },
        "outputId": "9f61d993-fc27-4f82-b700-a82457aebbbb"
      },
      "execution_count": null,
      "outputs": [
        {
          "output_type": "stream",
          "name": "stdout",
          "text": [
            "1\n",
            "2\n",
            "3\n",
            "4\n",
            "5\n"
          ]
        }
      ]
    },
    {
      "cell_type": "code",
      "source": [
        "# prompt: example of loops in python\n",
        "\n",
        "# Example of a for loop iterating over a string\n",
        "my_string = \"Python\"\n",
        "for char in my_string:\n",
        "  print(char)\n",
        "\n",
        "# Example of using break in a loop\n",
        "numbers = [1, 2, 3, 4, 5]\n",
        "for num in numbers:\n",
        "  if num == 3:\n",
        "    break  # exit the loop when num is 3\n",
        "  print(num)\n",
        "\n",
        "# Example of using continue in a loop\n",
        "more_numbers = [1, 2, 3, 4, 5]\n",
        "for num in more_numbers:\n",
        "  if num == 3:\n",
        "    continue  # skip the rest of the current iteration when num is 3\n",
        "  print(num)\n",
        "\n",
        "# Example of nested loops\n",
        "for i in range(3):\n",
        "  for j in range(2):\n",
        "    print(f\"Outer loop: {i}, Inner loop: {j}\")\n"
      ],
      "metadata": {
        "colab": {
          "base_uri": "https://localhost:8080/"
        },
        "id": "M1p2q383odDH",
        "outputId": "1abd7dd5-2b9e-4bb2-ed5e-3b02a503a7a7"
      },
      "execution_count": null,
      "outputs": [
        {
          "output_type": "stream",
          "name": "stdout",
          "text": [
            "P\n",
            "y\n",
            "t\n",
            "h\n",
            "o\n",
            "n\n",
            "1\n",
            "2\n",
            "1\n",
            "2\n",
            "4\n",
            "5\n",
            "Outer loop: 0, Inner loop: 0\n",
            "Outer loop: 0, Inner loop: 1\n",
            "Outer loop: 1, Inner loop: 0\n",
            "Outer loop: 1, Inner loop: 1\n",
            "Outer loop: 2, Inner loop: 0\n",
            "Outer loop: 2, Inner loop: 1\n"
          ]
        }
      ]
    },
    {
      "cell_type": "markdown",
      "source": [
        "example of loops in python"
      ],
      "metadata": {
        "id": "ZS1IP_rIEy6H"
      }
    },
    {
      "cell_type": "markdown",
      "source": [
        "# Functions and Modules"
      ],
      "metadata": {
        "id": "D1dWsNKtE5qx"
      }
    },
    {
      "cell_type": "code",
      "source": [
        "def my_function():\n",
        "  print(\"Hello from a function\")\n",
        "\n",
        "my_function() #calling the function\n",
        "my_function()\n",
        "my_function()\n",
        "my_function()"
      ],
      "metadata": {
        "id": "znwCTnO5FJeI",
        "colab": {
          "base_uri": "https://localhost:8080/"
        },
        "outputId": "f4fbbd34-f740-4d33-a1fd-7134a29c3e11"
      },
      "execution_count": null,
      "outputs": [
        {
          "output_type": "stream",
          "name": "stdout",
          "text": [
            "Hello from a function\n",
            "Hello from a function\n",
            "Hello from a function\n",
            "Hello from a function\n"
          ]
        }
      ]
    },
    {
      "cell_type": "code",
      "source": [
        "def my_function_with_args(name):\n",
        "    print(f\"Hello, {name} from a function with arguments\")\n",
        "\n",
        "my_function_with_args(\"Alice\")\n",
        "my_function_with_args(\"Bob\")\n",
        "my_function_with_args(\"Charlie\")"
      ],
      "metadata": {
        "id": "FJt2xo6IFLKD",
        "colab": {
          "base_uri": "https://localhost:8080/"
        },
        "outputId": "d1464316-686d-49ab-bcf3-fd82d0d7d497"
      },
      "execution_count": null,
      "outputs": [
        {
          "output_type": "stream",
          "name": "stdout",
          "text": [
            "Hello, Alice from a function with arguments\n",
            "Hello, Bob from a function with arguments\n",
            "Hello, Charlie from a function with arguments\n"
          ]
        }
      ]
    },
    {
      "cell_type": "code",
      "source": [
        "def my_function_with_return(x, y):\n",
        "    return x / y\n",
        "\n",
        "result = my_function_with_return(5, 3)\n",
        "print(f\"Result of division: {result}\")"
      ],
      "metadata": {
        "id": "B9wXNQkWFRJy",
        "colab": {
          "base_uri": "https://localhost:8080/"
        },
        "outputId": "87b12557-1377-417c-b7fb-c55614a28969"
      },
      "execution_count": null,
      "outputs": [
        {
          "output_type": "stream",
          "name": "stdout",
          "text": [
            "Result of division: 1.6666666666666667\n"
          ]
        }
      ]
    },
    {
      "cell_type": "markdown",
      "source": [
        "examples of functions in python"
      ],
      "metadata": {
        "id": "7iVQSBxTFWwB"
      }
    },
    {
      "cell_type": "code",
      "source": [
        "# prompt: examples of functions in python\n",
        "\n",
        "# Function with a default parameter value\n",
        "def my_function_with_default(country = \"Norway\"):\n",
        "  print(\"I am from \" + country)\n",
        "\n",
        "my_function_with_default(\"Sweden\")\n",
        "my_function_with_default(\"India\")\n",
        "my_function_with_default()\n",
        "my_function_with_default(\"Brazil\")\n",
        "\n",
        "# Function with keyword arguments\n",
        "def my_function_with_kwargs(child3, child2, child1):\n",
        "  print(\"The youngest child is \" + child3)\n",
        "\n",
        "my_function_with_kwargs(child1 = \"Emil\", child2 = \"Tobias\", child3 = \"Linus\")\n",
        "\n",
        "# Function with arbitrary arguments (*args)\n",
        "def my_function_with_args(*kids):\n",
        "  print(\"The youngest child is \" + kids[2])\n",
        "\n",
        "my_function_with_args(\"Emil\", \"Tobias\", \"Linus\")\n",
        "\n",
        "# Function with arbitrary keyword arguments (**kwargs)\n",
        "def my_function_with_kwargs(**kid):\n",
        "  print(\"His last name is \" + kid[\"lname\"])\n",
        "\n",
        "my_function_with_kwargs(fname = \"Tobias\", lname = \"Refsnes\")\n",
        "\n",
        "# Function that returns multiple values\n",
        "def my_function_multiple_returns(a, b):\n",
        "  return a + b, a - b\n",
        "\n",
        "sum_result, diff_result = my_function_multiple_returns(10, 5)\n",
        "print(f\"Sum: {sum_result}, Difference: {diff_result}\")\n",
        "\n",
        "# Lambda function (anonymous function)\n",
        "x = lambda a : a + 10\n",
        "print(x(5))\n",
        "\n",
        "# Lambda function with multiple arguments\n",
        "x = lambda a, b : a * b\n",
        "print(x(5, 6))\n",
        "\n",
        "# Lambda function within another function\n",
        "def myfunc(n):\n",
        "  return lambda a : a * n\n",
        "\n",
        "mydoubler = myfunc(2)\n",
        "mytripler = myfunc(3)\n",
        "\n",
        "print(mydoubler(11))\n",
        "print(mytripler(11))"
      ],
      "metadata": {
        "id": "aynG41eVqKwL"
      },
      "execution_count": null,
      "outputs": []
    },
    {
      "cell_type": "code",
      "source": [
        "import math\n",
        "\n",
        "print(math.sqrt(25))"
      ],
      "metadata": {
        "id": "NQiZIx8vFgHf",
        "colab": {
          "base_uri": "https://localhost:8080/"
        },
        "outputId": "675bfc6b-0a74-440b-f780-a7a3c2119757"
      },
      "execution_count": null,
      "outputs": [
        {
          "output_type": "stream",
          "name": "stdout",
          "text": [
            "5.0\n"
          ]
        }
      ]
    },
    {
      "cell_type": "code",
      "source": [
        "import random\n",
        "\n",
        "print(random.randint(1, 10))"
      ],
      "metadata": {
        "id": "N4RVnb0DFhwc",
        "colab": {
          "base_uri": "https://localhost:8080/"
        },
        "outputId": "94549df0-0faf-4029-99f5-d3b6b8420b9f"
      },
      "execution_count": null,
      "outputs": [
        {
          "output_type": "stream",
          "name": "stdout",
          "text": [
            "9\n"
          ]
        }
      ]
    },
    {
      "cell_type": "code",
      "source": [
        "from datetime import datetime\n",
        "\n",
        "print(datetime.now())"
      ],
      "metadata": {
        "id": "1Cc6bzXXFjh7",
        "colab": {
          "base_uri": "https://localhost:8080/"
        },
        "outputId": "9aaa45cc-401c-474c-e1fd-fc7fc5d6d4a6"
      },
      "execution_count": null,
      "outputs": [
        {
          "output_type": "stream",
          "name": "stdout",
          "text": [
            "2025-07-12 06:18:21.137845\n"
          ]
        }
      ]
    },
    {
      "cell_type": "markdown",
      "source": [
        "# Data Structures : List"
      ],
      "metadata": {
        "id": "4jZxZ2UKFwmA"
      }
    },
    {
      "cell_type": "code",
      "source": [
        "my_list = [1, 2, 3, 4, 5]\n",
        "print(my_list)"
      ],
      "metadata": {
        "id": "y21boQbVF8eB",
        "colab": {
          "base_uri": "https://localhost:8080/"
        },
        "outputId": "9572decc-625c-4192-f049-90ac00dd571b"
      },
      "execution_count": null,
      "outputs": [
        {
          "output_type": "stream",
          "name": "stdout",
          "text": [
            "[1, 2, 3, 4, 5]\n"
          ]
        }
      ]
    },
    {
      "cell_type": "code",
      "source": [
        "# Accessing elements in a list\n",
        "print(my_list[0])\n",
        "print(my_list[2])\n",
        "print(my_list[-1]) # last element"
      ],
      "metadata": {
        "id": "wJj7zg6fF-Dl",
        "colab": {
          "base_uri": "https://localhost:8080/"
        },
        "outputId": "2ef17126-9114-4508-8ca4-256a8606058e"
      },
      "execution_count": null,
      "outputs": [
        {
          "output_type": "stream",
          "name": "stdout",
          "text": [
            "1\n",
            "3\n",
            "5\n"
          ]
        }
      ]
    },
    {
      "cell_type": "code",
      "source": [
        "# Modifying a list\n",
        "my_list[0] = 10\n",
        "print(my_list)"
      ],
      "metadata": {
        "id": "2zRlLI3_F_-w",
        "colab": {
          "base_uri": "https://localhost:8080/"
        },
        "outputId": "875cd57b-ad34-4094-add4-2d4f3bc958e4"
      },
      "execution_count": null,
      "outputs": [
        {
          "output_type": "stream",
          "name": "stdout",
          "text": [
            "[10, 2, 3, 4, 5]\n"
          ]
        }
      ]
    },
    {
      "cell_type": "code",
      "source": [
        "# Adding elements to a list\n",
        "my_list.append(12) # add to the end\n",
        "print(my_list)"
      ],
      "metadata": {
        "id": "AgppcmDVGFT6",
        "colab": {
          "base_uri": "https://localhost:8080/"
        },
        "outputId": "9ec27ed3-dc5b-4df7-92ae-5de96657e502"
      },
      "execution_count": null,
      "outputs": [
        {
          "output_type": "stream",
          "name": "stdout",
          "text": [
            "[10, 2, 3, 4, 5, 12, 12, 12]\n"
          ]
        }
      ]
    },
    {
      "cell_type": "code",
      "source": [
        "# List length\n",
        "print(len(my_list))"
      ],
      "metadata": {
        "id": "MVHCaqrFGIyk",
        "colab": {
          "base_uri": "https://localhost:8080/"
        },
        "outputId": "8ccf7a96-7e53-44fa-df42-5d8e269a625d"
      },
      "execution_count": null,
      "outputs": [
        {
          "output_type": "stream",
          "name": "stdout",
          "text": [
            "8\n"
          ]
        }
      ]
    },
    {
      "cell_type": "markdown",
      "source": [
        "example of lists in python"
      ],
      "metadata": {
        "id": "7iuepaPgGUPm"
      }
    },
    {
      "cell_type": "code",
      "source": [
        "# prompt: example of lists in python\n",
        "\n",
        "# Lists can contain elements of different data types\n",
        "mixed_list = [1, \"hello\", 3.14, True]\n",
        "print(mixed_list)\n",
        "\n",
        "# Slicing lists (getting a sub-list)\n",
        "print(my_list[1:4]) # elements from index 1 up to (but not including) index 4\n",
        "print(my_list[:3]) # elements from the beginning up to (not including) index 3\n",
        "print(my_list[2:]) # elements from index 2 to the end\n",
        "print(my_list[:])  # a copy of the whole list\n",
        "\n",
        "# Checking if an element exists in a list\n",
        "print(3 in my_list)\n",
        "print(20 in my_list)\n",
        "\n",
        "# Iterating over a list\n",
        "for item in my_list:\n",
        "  print(f\"Item: {item}\")\n",
        "\n",
        "# List concatenation\n",
        "another_list = [6, 7, 8]\n",
        "combined_list = my_list + another_list\n",
        "print(combined_list)\n",
        "\n",
        "# List repetition\n",
        "repeated_list = [0] * 5\n",
        "print(repeated_list)\n",
        "\n",
        "# Removing elements from a list\n",
        "my_list.remove(3) # removes the first occurrence of the value 3\n",
        "print(my_list)\n",
        "my_list.pop(0)    # removes the element at index 0 and returns it\n",
        "print(my_list)\n",
        "# You can also use del keyword\n",
        "del my_list[1] # removes the element at index 1\n",
        "print(my_list)\n",
        "\n",
        "# Sorting a list\n",
        "unsorted_list = [5, 2, 8, 1, 9]\n",
        "unsorted_list.sort()\n",
        "print(unsorted_list)\n",
        "\n",
        "# Reversing a list\n",
        "unsorted_list.reverse()\n",
        "print(unsorted_list)\n",
        "\n",
        "# Creating a list using list comprehension\n",
        "squares = [x**2 for x in range(10)]\n",
        "squares"
      ],
      "metadata": {
        "id": "L16Kl34eR78R"
      },
      "execution_count": null,
      "outputs": []
    },
    {
      "cell_type": "markdown",
      "source": [
        "# Data Structures : Dictionaries"
      ],
      "metadata": {
        "id": "Rpdir0pKGWh9"
      }
    },
    {
      "cell_type": "code",
      "source": [
        "# Creating a dictionary\n",
        "car = {\n",
        "    \"brand\": \"Ford\",\n",
        "    \"model\": \"Mustang\",\n",
        "    \"year\": 1964\n",
        "}"
      ],
      "metadata": {
        "id": "SGzgHCzQGlIR"
      },
      "execution_count": null,
      "outputs": []
    },
    {
      "cell_type": "code",
      "source": [
        "print(car)"
      ],
      "metadata": {
        "id": "MC772gN0GtM4",
        "colab": {
          "base_uri": "https://localhost:8080/"
        },
        "outputId": "6689d0d7-2452-415b-fdff-36c96199ef76"
      },
      "execution_count": null,
      "outputs": [
        {
          "output_type": "stream",
          "name": "stdout",
          "text": [
            "{'brand': 'Ford', 'model': 'Mustang', 'year': 1964}\n"
          ]
        }
      ]
    },
    {
      "cell_type": "code",
      "source": [
        "# Accessing values\n",
        "print(car[\"brand\"])\n",
        "print(car.get(\"model\"))\n",
        "print(car.get(\"wheels\"))"
      ],
      "metadata": {
        "id": "QvP_wOOHGm1R",
        "colab": {
          "base_uri": "https://localhost:8080/"
        },
        "outputId": "5fd9252d-ab3a-47bc-e6c6-6f44a2783f5a"
      },
      "execution_count": null,
      "outputs": [
        {
          "output_type": "stream",
          "name": "stdout",
          "text": [
            "Ford\n",
            "Mustang\n",
            "None\n"
          ]
        }
      ]
    },
    {
      "cell_type": "code",
      "source": [
        "# Iterating through a dictionary\n",
        "for key, value in car.items():\n",
        "    print(f\"Key: {key}, Value: {value}\")"
      ],
      "metadata": {
        "id": "xOTG2-8fG7Ln",
        "colab": {
          "base_uri": "https://localhost:8080/"
        },
        "outputId": "e2865489-bbc2-403b-f8b8-4b901f8fd767"
      },
      "execution_count": null,
      "outputs": [
        {
          "output_type": "stream",
          "name": "stdout",
          "text": [
            "Key: brand, Value: Ford\n",
            "Key: model, Value: Mustang\n",
            "Key: year, Value: 1964\n"
          ]
        }
      ]
    },
    {
      "cell_type": "markdown",
      "source": [
        "example of dictionaries in python"
      ],
      "metadata": {
        "id": "60TB-O8KHAON"
      }
    },
    {
      "cell_type": "code",
      "source": [
        "# prompt: example of dictionaries in python\n",
        "\n",
        "# Adding or updating elements\n",
        "car[\"color\"] = \"red\"  # Add a new key-value pair\n",
        "print(car)\n",
        "car[\"year\"] = 2020     # Update the value for 'year'\n",
        "print(car)\n",
        "\n",
        "# Removing elements\n",
        "del car[\"model\"]      # Remove element by key\n",
        "print(car)\n",
        "# You can also use .pop()\n",
        "# removed_year = car.pop(\"year\")\n",
        "# print(car)\n",
        "# print(f\"Removed year: {removed_year}\")\n",
        "\n",
        "# Dictionary length\n",
        "print(len(car))\n",
        "\n",
        "# Checking if a key exists\n",
        "print(\"brand\" in car)\n",
        "print(\"wheels\" in car)\n",
        "\n",
        "# Getting all keys, values, or items\n",
        "print(car.keys())\n",
        "print(car.values())\n",
        "print(car.items())\n",
        "\n",
        "# Dictionary with different data types as values\n",
        "student = {\n",
        "    \"name\": \"Alice\",\n",
        "    \"age\": 20,\n",
        "    \"major\": \"Computer Science\",\n",
        "    \"is_enrolled\": True,\n",
        "    \"courses\": [\"Math\", \"Physics\", \"Programming\"]\n",
        "}\n",
        "student"
      ],
      "metadata": {
        "colab": {
          "base_uri": "https://localhost:8080/"
        },
        "id": "NChTW0q4yi1W",
        "outputId": "f352f848-13e0-4e0b-ede6-5ad917c6e20a"
      },
      "execution_count": null,
      "outputs": [
        {
          "output_type": "stream",
          "name": "stdout",
          "text": [
            "{'brand': 'Ford', 'model': 'Mustang', 'year': 1964, 'color': 'red'}\n",
            "{'brand': 'Ford', 'model': 'Mustang', 'year': 2020, 'color': 'red'}\n",
            "{'brand': 'Ford', 'year': 2020, 'color': 'red'}\n",
            "3\n",
            "True\n",
            "False\n",
            "dict_keys(['brand', 'year', 'color'])\n",
            "dict_values(['Ford', 2020, 'red'])\n",
            "dict_items([('brand', 'Ford'), ('year', 2020), ('color', 'red')])\n"
          ]
        },
        {
          "output_type": "execute_result",
          "data": {
            "text/plain": [
              "{'name': 'Alice',\n",
              " 'age': 20,\n",
              " 'major': 'Computer Science',\n",
              " 'is_enrolled': True,\n",
              " 'courses': ['Math', 'Physics', 'Programming']}"
            ]
          },
          "metadata": {},
          "execution_count": 54
        }
      ]
    }
  ]
}